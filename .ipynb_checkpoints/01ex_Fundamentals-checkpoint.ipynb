{
 "cells": [
  {
   "cell_type": "markdown",
   "metadata": {},
   "source": [
    "1\\. Write the following as a list comprehension"
   ]
  },
  {
   "cell_type": "code",
   "execution_count": 1,
   "metadata": {},
   "outputs": [
    {
     "name": "stdout",
     "output_type": "stream",
     "text": [
      "[(0, 0), (0, 1), (0, 2), (0, 3), (1, 0), (1, 1), (1, 2), (1, 3), (2, 0), (2, 1), (2, 2), (2, 3)]\n",
      "[0, 4, 16]\n"
     ]
    }
   ],
   "source": [
    "# 1\n",
    "ans = []\n",
    "for i in range(3):\n",
    "    for j in range(4):\n",
    "        ans.append((i, j))\n",
    "print (ans)\n",
    "\n",
    "# 2\n",
    "ans = map(lambda x: x*x, filter(lambda x: x%2 == 0, range(5)))\n",
    "print (list(ans))"
   ]
  },
  {
   "cell_type": "code",
   "execution_count": 2,
   "metadata": {},
   "outputs": [
    {
     "name": "stdout",
     "output_type": "stream",
     "text": [
      "[(0, 0), (0, 1), (0, 2), (0, 3), (1, 0), (1, 1), (1, 2), (1, 3), (2, 0), (2, 1), (2, 2), (2, 3)]\n"
     ]
    }
   ],
   "source": [
    "my_list = [(i, j) for i in range(3) for j in range(4)]\n",
    "print(my_list)"
   ]
  },
  {
   "cell_type": "code",
   "execution_count": 3,
   "metadata": {},
   "outputs": [
    {
     "name": "stdout",
     "output_type": "stream",
     "text": [
      "[0, 4, 16]\n"
     ]
    }
   ],
   "source": [
    "my_list = [i*i for i in range(5) if i%2 == 0]\n",
    "print(my_list)"
   ]
  },
  {
   "cell_type": "markdown",
   "metadata": {},
   "source": [
    "2\\. Convert the following function into a pure function with no global variables or side effects"
   ]
  },
  {
   "cell_type": "code",
   "execution_count": 4,
   "metadata": {},
   "outputs": [
    {
     "name": "stdout",
     "output_type": "stream",
     "text": [
      "[1, 2, 3, 0, 1, 2, 3, 4]\n",
      "[1, 2, 3, 0, 1, 2, 3, 4]\n"
     ]
    }
   ],
   "source": [
    "x = 5\n",
    "def f(alist):\n",
    "    for i in range(x):\n",
    "         alist.append(i)\n",
    "    return alist\n",
    "\n",
    "alist = [1,2,3]\n",
    "ans = f(alist)\n",
    "print (ans)\n",
    "print (alist) # alist has been changed!"
   ]
  },
  {
   "cell_type": "code",
   "execution_count": 4,
   "metadata": {},
   "outputs": [
    {
     "name": "stdout",
     "output_type": "stream",
     "text": [
      "[1, 2, 3, 0, 1, 2, 3, 4]\n",
      "[1, 2, 3]\n"
     ]
    }
   ],
   "source": [
    "def f(mylist, x = 5):\n",
    "    mylist = mylist + [i for i in range(x)]\n",
    "    return mylist\n",
    "\n",
    "alist = [1,2,3]\n",
    "ans = f(alist)\n",
    "print(ans)\n",
    "print(alist)"
   ]
  },
  {
   "cell_type": "markdown",
   "metadata": {},
   "source": [
    "3\\. Write a `decorator` hello that makes every wrapped function print “Hello!”, i.e. something like:\n",
    "\n",
    "```python\n",
    "@hello\n",
    "def square(x):\n",
    "    return x*x\n",
    "```\n",
    "\n"
   ]
  },
  {
   "cell_type": "code",
   "execution_count": 1,
   "metadata": {},
   "outputs": [
    {
     "name": "stdout",
     "output_type": "stream",
     "text": [
      "Hello\n",
      "4\n"
     ]
    }
   ],
   "source": [
    "def my_decorator(func):\n",
    "    def wrapper(*args, **kargs):\n",
    "        print(\"Hello\")\n",
    "        return func(*args, **kargs)\n",
    "    return wrapper\n",
    "\n",
    "\n",
    "@my_decorator\n",
    "def square(x):\n",
    "    return x*x\n",
    "\n",
    "\n",
    "print(square(2))"
   ]
  },
  {
   "cell_type": "markdown",
   "metadata": {},
   "source": [
    "4\\. Write the factorial function so that it a) does and b) does not use recursion."
   ]
  },
  {
   "cell_type": "code",
   "execution_count": 7,
   "metadata": {},
   "outputs": [
    {
     "name": "stdout",
     "output_type": "stream",
     "text": [
      "What number you wanna compute the factorial of? 5\n",
      "The factorial of 5 is 120\n"
     ]
    }
   ],
   "source": [
    "# With recursion\n",
    "number = input(\"What number you wanna compute the factorial of? \")\n",
    "\n",
    "\n",
    "def factorial(n):\n",
    "    try:\n",
    "        number_used = int(n)\n",
    "    except ValueError:\n",
    "        raise ValueError(\"You must type an integer number\") from None\n",
    "    if number_used == 0:\n",
    "        return 1\n",
    "    elif number_used < 0:\n",
    "        raise ValueError(\"You must have n >= 0\")\n",
    "    else:\n",
    "        return factorial(number_used - 1) * number_used\n",
    "\n",
    "\n",
    "print(f\"The factorial of {number} is {factorial(number)}\")"
   ]
  },
  {
   "cell_type": "code",
   "execution_count": 9,
   "metadata": {},
   "outputs": [
    {
     "name": "stdout",
     "output_type": "stream",
     "text": [
      "What is the number to compute the factorial on? 5\n",
      "The factorial of 5 is 120\n"
     ]
    }
   ],
   "source": [
    "from functools import reduce\n",
    "number = input(\"What is the number to compute the factorial on? \")\n",
    "\n",
    "\n",
    "def factorial(n):\n",
    "    try:\n",
    "        number_used = int(n)\n",
    "    except ValueError:\n",
    "        raise ValueError (\"You must type an integer number\") from None\n",
    "    if number_used == 0:\n",
    "        return 1\n",
    "    elif number_used < 0:\n",
    "        raise ValueError(\"You must have n >= 0\")\n",
    "    else:\n",
    "        return reduce(lambda x, y: x * y, range(1, number_used + 1))\n",
    "\n",
    "\n",
    "print(f\"The factorial of {number} is {factorial(number)}\")"
   ]
  },
  {
   "cell_type": "markdown",
   "metadata": {},
   "source": [
    "5\\. Use HOFs (zip in particular) to compute the weight of a circle, a disk and a sphere, assuming different radii and different densities:\n",
    "\n",
    "```python\n",
    "densities = {\"Al\":[0.5,1,2],\"Fe\":[3,4,5],\"Pb\": [15,20,30]}\n",
    "radii = [1,2,3]\n",
    "```\n",
    "\n",
    "where the entries of the dictionary's values are the linear, superficial and volumetric densities of the materials respectively.\n",
    "\n",
    "In particular define a list of three lambda functions using a comprehension that computes the circumference, the area and the volume for a given radius.\n"
   ]
  },
  {
   "cell_type": "code",
   "execution_count": 44,
   "metadata": {},
   "outputs": [
    {
     "name": "stdout",
     "output_type": "stream",
     "text": [
      "\n",
      " Aluminium: \n",
      "\n",
      "circle weights for radii [1, 2, 3] are:  ['3.14', '18.85', '94.25']\n",
      "disk weights for radii [1, 2, 3] are:  ['3.14', '12.57', '62.83']\n",
      "sphere weights for radii [1, 2, 3] are:  ['8.38', '20.94', '125.66']\n",
      "\n",
      " Iron: \n",
      "\n",
      "circle weights for radii [1, 2, 3] are:  ['6.28', '37.70', '188.50']\n",
      "disk weights for radii [1, 2, 3] are:  ['12.57', '50.27', '251.33']\n",
      "sphere weights for radii [1, 2, 3] are:  ['67.02', '167.55', '1005.31']\n",
      "\n",
      " Lead: \n",
      "\n",
      "circle weights for radii [1, 2, 3] are:  ['9.42', '56.55', '282.74']\n",
      "disk weights for radii [1, 2, 3] are:  ['28.27', '113.10', '565.49']\n",
      "sphere weights for radii [1, 2, 3] are:  ['226.19', '565.49', '3392.92']\n"
     ]
    }
   ],
   "source": [
    "import math\n",
    "\n",
    "\n",
    "densities = {\"Al\":[0.5,1,2],\"Fe\":[3,4,5],\"Pb\": [15,20,30]}\n",
    "radii = [1,2,3]\n",
    "# We create the three lambda functions\n",
    "circle_weight = lambda linear_density, radius: \"%.2f\" % ((2*math.pi*radius)*linear_density)\n",
    "disk_weight = lambda superficial_density, radius: \"%.2f\" % ((math.pi*radius**2)*superficial_density)\n",
    "sphere_weight = lambda volumetric_density, radius: \"%.2f\" % ((4/3)*math.pi*(radius**3)*volumetric_density)\n",
    "my_densities = [[x, y, z] for x, y, z in zip(densities[\"Al\"], densities[\"Fe\"], densities[\"Pb\"])]\n",
    "weights = []\n",
    "for r in radii:\n",
    "    # Every column is a different material, each row represent, respectively, the weight of the circle, disk and sphere,\n",
    "    # every block is a different radius\n",
    "    weights.append([[circle_weight(x, r) for x in my_densities[0]], [disk_weight(x, r) for x in my_densities[1]], [sphere_weight(x, r) for x in my_densities[2]]])\n",
    "# This part of the code is for better visualiza the output\n",
    "for elements, matrix in zip([\"Aluminium\", \"Iron\", \"Lead\"], weights):\n",
    "    print(f\"\\n {elements}: \\n\")\n",
    "    for row, shape in zip(matrix, [\"circle\", \"disk\", \"sphere\"]):\n",
    "        print(f\"{shape} weights for radii {radii} are: \", row)"
   ]
  },
  {
   "cell_type": "markdown",
   "metadata": {},
   "source": [
    "6\\. Edit the class defintion to add an instance attribute of is_hungry = True to the Dog class. Then add a method called eat() which changes the value of is_hungry to False when called. Figure out the best way to feed each dog and then output “My dogs are hungry.” if all are hungry or “My dogs are not hungry.” if all are not hungry. The final output should look like this:\n",
    "\n",
    "`I have 3 dogs. \n",
    "Tom is 6. \n",
    "Fletcher is 7. \n",
    "Larry is 9. \n",
    "And they're all mammals, of course. \n",
    "My dogs are not hungry.\n",
    "`\n",
    "\n",
    "```python\n",
    "# Parent class\n",
    "class Dog:\n",
    "\n",
    "    # Class attribute\n",
    "    species = 'mammal'\n",
    "\n",
    "    # Initializer / Instance attributes\n",
    "    def __init__(self, name, age):\n",
    "        self.name = name\n",
    "        self.age = age\n",
    "\n",
    "    # instance method\n",
    "    def description(self):\n",
    "        return \"{} is {} years old\".format(self.name, self.age)\n",
    "\n",
    "    # instance method\n",
    "    def speak(self, sound):\n",
    "        return \"{} says {}\".format(self.name, sound)\n",
    "\n",
    "# Child class (inherits from Dog class)\n",
    "class RussellTerrier(Dog):\n",
    "    def run(self, speed):\n",
    "        return \"{} runs {}\".format(self.name, speed)\n",
    "\n",
    "# Child class (inherits from Dog class)\n",
    "class Bulldog(Dog):\n",
    "    def run(self, speed):\n",
    "        return \"{} runs {}\".format(self.name, speed)\n",
    "```"
   ]
  },
  {
   "cell_type": "code",
   "execution_count": 25,
   "metadata": {},
   "outputs": [
    {
     "name": "stdout",
     "output_type": "stream",
     "text": [
      "Do you wanna feed Tom?[y, n]\n",
      " > y\n",
      "Do you wanna feed Fletcher?[y, n]\n",
      " > y\n",
      "Do you wanna feed Larry?[y, n]\n",
      " > y\n",
      "I have 3 dogs,\n",
      "Tom is 6\n",
      "Fletcher is 7\n",
      "Larry is 9\n",
      "and they are all mammals of course.\n",
      "My dogs are not hungry\n"
     ]
    }
   ],
   "source": [
    "import sys\n",
    "# Parent class\n",
    "class Dog:\n",
    "    # Class attribute\n",
    "    species = 'mammal'\n",
    "    is_hungry = True\n",
    "    # Initializer / Instance attributes\n",
    "    def __init__(self, name, age):\n",
    "        self.name = name\n",
    "        self.age = age\n",
    "\n",
    "\n",
    "    # instance method\n",
    "    def description(self):\n",
    "        return \"{} is {} years old\".format(self.name, self.age)\n",
    "\n",
    "    def eat(self):\n",
    "        dog_fed = input(f\"Do you wanna feed {self.name}?[y, n]\\n > \")\n",
    "        if dog_fed.lower() == \"y\":\n",
    "            self.is_hungry = False\n",
    "        elif dog_fed.lower() == \"n\":\n",
    "            pass\n",
    "        else:\n",
    "            raise ValueError(\"You must type either \\\"y\\\" for yes or \\\"n\\\" for no\")\n",
    "\n",
    "            # instance method\n",
    "\n",
    "\n",
    "    def speak(self, sound):\n",
    "        return \"{} says {}\".format(self.name, sound)\n",
    "\n",
    "\n",
    "# Child class (inherits from Dog class)\n",
    "class RussellTerrier(Dog):\n",
    "    def run(self, speed):\n",
    "        return \"{} runs {}\".format(self.name, speed)\n",
    "\n",
    "\n",
    "# Child class (inherits from Dog class)\n",
    "class Bulldog(Dog):\n",
    "    def run(self, speed):\n",
    "        return \"{} runs {}\".format(self.name, speed)\n",
    "\n",
    "\n",
    "first_dog = Dog(\"Tom\", 6)\n",
    "second_dog = Dog(\"Fletcher\", 7)\n",
    "third_dog = Dog(\"Larry\", 9)\n",
    "first_dog.eat()\n",
    "second_dog.eat()\n",
    "third_dog.eat()\n",
    "print(f\"\"\"I have 3 dogs,\n",
    "{first_dog.name} is {first_dog.age}\n",
    "{second_dog.name} is {second_dog.age}\n",
    "{third_dog.name} is {third_dog.age}\n",
    "and they are all {Dog.species}s of course.\"\"\")\n",
    "if not first_dog.is_hungry and not second_dog.is_hungry and not third_dog.is_hungry:\n",
    "    print(\"My dogs are not hungry\")\n",
    "else:\n",
    "    print(\"My dogs are hungry\")"
   ]
  }
 ],
 "metadata": {
  "kernelspec": {
   "display_name": "Python 3",
   "language": "python",
   "name": "python3"
  },
  "language_info": {
   "codemirror_mode": {
    "name": "ipython",
    "version": 3
   },
   "file_extension": ".py",
   "mimetype": "text/x-python",
   "name": "python",
   "nbconvert_exporter": "python",
   "pygments_lexer": "ipython3",
   "version": "3.8.8"
  }
 },
 "nbformat": 4,
 "nbformat_minor": 2
}
